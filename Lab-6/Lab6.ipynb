{
 "cells": [
  {
   "cell_type": "markdown",
   "id": "2b012b2a",
   "metadata": {},
   "source": [
    "<a href='https://www.darshan.ac.in/'> <img src='https://www.darshan.ac.in/Content/media/DU_Logo.svg' width=\"250\" height=\"300\"/></a>\n",
    "<pre>\n",
    "<center><b><h1>Machine Learning - 2301CS621</b></center>\n",
    "\n",
    "<center><b><h1>Lab - 6</b></center>    \n",
    "<pre>    "
   ]
  },
  {
   "cell_type": "code",
   "execution_count": null,
   "id": "449e4e43-18d5-44ac-b967-f1ce191524e9",
   "metadata": {},
   "outputs": [],
   "source": [
    "Doshi Hensi Vipulbhai\n",
    "23010101617"
   ]
  },
  {
   "cell_type": "markdown",
   "id": "17f7c8bb",
   "metadata": {},
   "source": [
    "# import necessary libraries"
   ]
  },
  {
   "cell_type": "code",
   "execution_count": 1,
   "id": "c8478e9b",
   "metadata": {},
   "outputs": [],
   "source": [
    "import pandas as pd\n",
    "import numpy as np\n",
    "import matplotlib.pyplot as plt\n",
    "from sklearn.tree import DecisionTreeClassifier\n",
    "from sklearn.model_selection import train_test_split\n",
    "from sklearn import tree"
   ]
  },
  {
   "cell_type": "markdown",
   "id": "b8871bc5",
   "metadata": {},
   "source": [
    "# Import diabetes.csv data ser using sklearn"
   ]
  },
  {
   "cell_type": "code",
   "execution_count": 2,
   "id": "3d12450f",
   "metadata": {},
   "outputs": [],
   "source": [
    "df = pd.read_csv(\"diabetes.csv\")"
   ]
  },
  {
   "cell_type": "code",
   "execution_count": 3,
   "id": "2adf28f3",
   "metadata": {},
   "outputs": [
    {
     "data": {
      "text/html": [
       "<div>\n",
       "<style scoped>\n",
       "    .dataframe tbody tr th:only-of-type {\n",
       "        vertical-align: middle;\n",
       "    }\n",
       "\n",
       "    .dataframe tbody tr th {\n",
       "        vertical-align: top;\n",
       "    }\n",
       "\n",
       "    .dataframe thead th {\n",
       "        text-align: right;\n",
       "    }\n",
       "</style>\n",
       "<table border=\"1\" class=\"dataframe\">\n",
       "  <thead>\n",
       "    <tr style=\"text-align: right;\">\n",
       "      <th></th>\n",
       "      <th>Pregnancies</th>\n",
       "      <th>Glucose</th>\n",
       "      <th>BloodPressure</th>\n",
       "      <th>SkinThickness</th>\n",
       "      <th>Insulin</th>\n",
       "      <th>BMI</th>\n",
       "      <th>DiabetesPedigreeFunction</th>\n",
       "      <th>Age</th>\n",
       "      <th>Outcome</th>\n",
       "    </tr>\n",
       "  </thead>\n",
       "  <tbody>\n",
       "    <tr>\n",
       "      <th>0</th>\n",
       "      <td>6</td>\n",
       "      <td>148</td>\n",
       "      <td>72</td>\n",
       "      <td>35</td>\n",
       "      <td>0</td>\n",
       "      <td>33.6</td>\n",
       "      <td>0.627</td>\n",
       "      <td>50</td>\n",
       "      <td>Diabetic</td>\n",
       "    </tr>\n",
       "    <tr>\n",
       "      <th>1</th>\n",
       "      <td>1</td>\n",
       "      <td>85</td>\n",
       "      <td>66</td>\n",
       "      <td>29</td>\n",
       "      <td>0</td>\n",
       "      <td>26.6</td>\n",
       "      <td>0.351</td>\n",
       "      <td>31</td>\n",
       "      <td>Non Diabetic</td>\n",
       "    </tr>\n",
       "    <tr>\n",
       "      <th>2</th>\n",
       "      <td>8</td>\n",
       "      <td>183</td>\n",
       "      <td>64</td>\n",
       "      <td>0</td>\n",
       "      <td>0</td>\n",
       "      <td>23.3</td>\n",
       "      <td>0.672</td>\n",
       "      <td>32</td>\n",
       "      <td>Diabetic</td>\n",
       "    </tr>\n",
       "    <tr>\n",
       "      <th>3</th>\n",
       "      <td>1</td>\n",
       "      <td>89</td>\n",
       "      <td>66</td>\n",
       "      <td>23</td>\n",
       "      <td>94</td>\n",
       "      <td>28.1</td>\n",
       "      <td>0.167</td>\n",
       "      <td>21</td>\n",
       "      <td>Non Diabetic</td>\n",
       "    </tr>\n",
       "    <tr>\n",
       "      <th>4</th>\n",
       "      <td>0</td>\n",
       "      <td>137</td>\n",
       "      <td>40</td>\n",
       "      <td>35</td>\n",
       "      <td>168</td>\n",
       "      <td>43.1</td>\n",
       "      <td>2.288</td>\n",
       "      <td>33</td>\n",
       "      <td>Diabetic</td>\n",
       "    </tr>\n",
       "    <tr>\n",
       "      <th>...</th>\n",
       "      <td>...</td>\n",
       "      <td>...</td>\n",
       "      <td>...</td>\n",
       "      <td>...</td>\n",
       "      <td>...</td>\n",
       "      <td>...</td>\n",
       "      <td>...</td>\n",
       "      <td>...</td>\n",
       "      <td>...</td>\n",
       "    </tr>\n",
       "    <tr>\n",
       "      <th>763</th>\n",
       "      <td>10</td>\n",
       "      <td>101</td>\n",
       "      <td>76</td>\n",
       "      <td>48</td>\n",
       "      <td>180</td>\n",
       "      <td>32.9</td>\n",
       "      <td>0.171</td>\n",
       "      <td>63</td>\n",
       "      <td>Non Diabetic</td>\n",
       "    </tr>\n",
       "    <tr>\n",
       "      <th>764</th>\n",
       "      <td>2</td>\n",
       "      <td>122</td>\n",
       "      <td>70</td>\n",
       "      <td>27</td>\n",
       "      <td>0</td>\n",
       "      <td>36.8</td>\n",
       "      <td>0.340</td>\n",
       "      <td>27</td>\n",
       "      <td>Non Diabetic</td>\n",
       "    </tr>\n",
       "    <tr>\n",
       "      <th>765</th>\n",
       "      <td>5</td>\n",
       "      <td>121</td>\n",
       "      <td>72</td>\n",
       "      <td>23</td>\n",
       "      <td>112</td>\n",
       "      <td>26.2</td>\n",
       "      <td>0.245</td>\n",
       "      <td>30</td>\n",
       "      <td>Non Diabetic</td>\n",
       "    </tr>\n",
       "    <tr>\n",
       "      <th>766</th>\n",
       "      <td>1</td>\n",
       "      <td>126</td>\n",
       "      <td>60</td>\n",
       "      <td>0</td>\n",
       "      <td>0</td>\n",
       "      <td>30.1</td>\n",
       "      <td>0.349</td>\n",
       "      <td>47</td>\n",
       "      <td>Diabetic</td>\n",
       "    </tr>\n",
       "    <tr>\n",
       "      <th>767</th>\n",
       "      <td>1</td>\n",
       "      <td>93</td>\n",
       "      <td>70</td>\n",
       "      <td>31</td>\n",
       "      <td>0</td>\n",
       "      <td>30.4</td>\n",
       "      <td>0.315</td>\n",
       "      <td>23</td>\n",
       "      <td>Non Diabetic</td>\n",
       "    </tr>\n",
       "  </tbody>\n",
       "</table>\n",
       "<p>768 rows × 9 columns</p>\n",
       "</div>"
      ],
      "text/plain": [
       "     Pregnancies  Glucose  BloodPressure  SkinThickness  Insulin   BMI  \\\n",
       "0              6      148             72             35        0  33.6   \n",
       "1              1       85             66             29        0  26.6   \n",
       "2              8      183             64              0        0  23.3   \n",
       "3              1       89             66             23       94  28.1   \n",
       "4              0      137             40             35      168  43.1   \n",
       "..           ...      ...            ...            ...      ...   ...   \n",
       "763           10      101             76             48      180  32.9   \n",
       "764            2      122             70             27        0  36.8   \n",
       "765            5      121             72             23      112  26.2   \n",
       "766            1      126             60              0        0  30.1   \n",
       "767            1       93             70             31        0  30.4   \n",
       "\n",
       "     DiabetesPedigreeFunction  Age       Outcome  \n",
       "0                       0.627   50      Diabetic  \n",
       "1                       0.351   31  Non Diabetic  \n",
       "2                       0.672   32      Diabetic  \n",
       "3                       0.167   21  Non Diabetic  \n",
       "4                       2.288   33      Diabetic  \n",
       "..                        ...  ...           ...  \n",
       "763                     0.171   63  Non Diabetic  \n",
       "764                     0.340   27  Non Diabetic  \n",
       "765                     0.245   30  Non Diabetic  \n",
       "766                     0.349   47      Diabetic  \n",
       "767                     0.315   23  Non Diabetic  \n",
       "\n",
       "[768 rows x 9 columns]"
      ]
     },
     "execution_count": 3,
     "metadata": {},
     "output_type": "execute_result"
    }
   ],
   "source": [
    "df"
   ]
  },
  {
   "cell_type": "markdown",
   "id": "eb113bac",
   "metadata": {},
   "source": [
    "# Check the distribution of the target"
   ]
  },
  {
   "cell_type": "code",
   "execution_count": 4,
   "id": "f8c041f6",
   "metadata": {},
   "outputs": [
    {
     "name": "stdout",
     "output_type": "stream",
     "text": [
      "Outcome\n",
      "Non Diabetic    500\n",
      "Diabetic        268\n",
      "Name: count, dtype: int64\n"
     ]
    }
   ],
   "source": [
    "print(df['Outcome'].value_counts())"
   ]
  },
  {
   "cell_type": "markdown",
   "id": "2b00053a",
   "metadata": {},
   "source": [
    "# Replace zeros with NaN for specific columns"
   ]
  },
  {
   "cell_type": "code",
   "execution_count": 5,
   "id": "df16b56a",
   "metadata": {},
   "outputs": [],
   "source": [
    "column_to_replace = ['Glucose','BloodPressure','SkinThickness','Insulin','BMI']\n",
    "df[column_to_replace] = df[column_to_replace].replace(0,np.nan)"
   ]
  },
  {
   "cell_type": "markdown",
   "id": "adedaeee",
   "metadata": {},
   "source": [
    "# Check for missing values"
   ]
  },
  {
   "cell_type": "code",
   "execution_count": 6,
   "id": "a63e906e",
   "metadata": {},
   "outputs": [
    {
     "name": "stdout",
     "output_type": "stream",
     "text": [
      "Pregnancies                   0\n",
      "Glucose                       5\n",
      "BloodPressure                35\n",
      "SkinThickness               227\n",
      "Insulin                     374\n",
      "BMI                          11\n",
      "DiabetesPedigreeFunction      0\n",
      "Age                           0\n",
      "Outcome                       0\n",
      "dtype: int64\n"
     ]
    }
   ],
   "source": [
    "print(df.isnull().sum())"
   ]
  },
  {
   "cell_type": "markdown",
   "id": "871ac420",
   "metadata": {},
   "source": [
    "# Fill missing values with median"
   ]
  },
  {
   "cell_type": "code",
   "execution_count": 7,
   "id": "f86f1b21",
   "metadata": {},
   "outputs": [
    {
     "name": "stdout",
     "output_type": "stream",
     "text": [
      "Pregnancies                 0\n",
      "Glucose                     0\n",
      "BloodPressure               0\n",
      "SkinThickness               0\n",
      "Insulin                     0\n",
      "BMI                         0\n",
      "DiabetesPedigreeFunction    0\n",
      "Age                         0\n",
      "Outcome                     0\n",
      "dtype: int64\n"
     ]
    }
   ],
   "source": [
    "df.fillna(df.median(numeric_only=True), inplace=True)\n",
    "print(df.isnull().sum())"
   ]
  },
  {
   "cell_type": "markdown",
   "id": "3881d1da",
   "metadata": {},
   "source": [
    "# Visualize Distributions"
   ]
  },
  {
   "cell_type": "code",
   "execution_count": 8,
   "id": "9af33a40",
   "metadata": {},
   "outputs": [
    {
     "name": "stdout",
     "output_type": "stream",
     "text": [
      "Requirement already satisfied: seaborn in c:\\users\\hensi doshi\\appdata\\local\\programs\\python\\python312\\lib\\site-packages (0.13.2)\n",
      "Requirement already satisfied: numpy!=1.24.0,>=1.20 in c:\\users\\hensi doshi\\appdata\\local\\programs\\python\\python312\\lib\\site-packages (from seaborn) (1.26.4)\n",
      "Requirement already satisfied: pandas>=1.2 in c:\\users\\hensi doshi\\appdata\\local\\programs\\python\\python312\\lib\\site-packages (from seaborn) (2.2.2)\n",
      "Requirement already satisfied: matplotlib!=3.6.1,>=3.4 in c:\\users\\hensi doshi\\appdata\\local\\programs\\python\\python312\\lib\\site-packages (from seaborn) (3.8.4)\n",
      "Requirement already satisfied: contourpy>=1.0.1 in c:\\users\\hensi doshi\\appdata\\local\\programs\\python\\python312\\lib\\site-packages (from matplotlib!=3.6.1,>=3.4->seaborn) (1.2.1)\n",
      "Requirement already satisfied: cycler>=0.10 in c:\\users\\hensi doshi\\appdata\\local\\programs\\python\\python312\\lib\\site-packages (from matplotlib!=3.6.1,>=3.4->seaborn) (0.12.1)\n",
      "Requirement already satisfied: fonttools>=4.22.0 in c:\\users\\hensi doshi\\appdata\\local\\programs\\python\\python312\\lib\\site-packages (from matplotlib!=3.6.1,>=3.4->seaborn) (4.51.0)\n",
      "Requirement already satisfied: kiwisolver>=1.3.1 in c:\\users\\hensi doshi\\appdata\\local\\programs\\python\\python312\\lib\\site-packages (from matplotlib!=3.6.1,>=3.4->seaborn) (1.4.5)\n",
      "Requirement already satisfied: packaging>=20.0 in c:\\users\\hensi doshi\\appdata\\local\\programs\\python\\python312\\lib\\site-packages (from matplotlib!=3.6.1,>=3.4->seaborn) (23.2)\n",
      "Requirement already satisfied: pillow>=8 in c:\\users\\hensi doshi\\appdata\\local\\programs\\python\\python312\\lib\\site-packages (from matplotlib!=3.6.1,>=3.4->seaborn) (10.3.0)\n",
      "Requirement already satisfied: pyparsing>=2.3.1 in c:\\users\\hensi doshi\\appdata\\local\\programs\\python\\python312\\lib\\site-packages (from matplotlib!=3.6.1,>=3.4->seaborn) (3.1.2)\n",
      "Requirement already satisfied: python-dateutil>=2.7 in c:\\users\\hensi doshi\\appdata\\local\\programs\\python\\python312\\lib\\site-packages (from matplotlib!=3.6.1,>=3.4->seaborn) (2.8.2)\n",
      "Requirement already satisfied: pytz>=2020.1 in c:\\users\\hensi doshi\\appdata\\local\\programs\\python\\python312\\lib\\site-packages (from pandas>=1.2->seaborn) (2024.1)\n",
      "Requirement already satisfied: tzdata>=2022.7 in c:\\users\\hensi doshi\\appdata\\local\\programs\\python\\python312\\lib\\site-packages (from pandas>=1.2->seaborn) (2024.1)\n",
      "Requirement already satisfied: six>=1.5 in c:\\users\\hensi doshi\\appdata\\local\\programs\\python\\python312\\lib\\site-packages (from python-dateutil>=2.7->matplotlib!=3.6.1,>=3.4->seaborn) (1.16.0)\n"
     ]
    },
    {
     "name": "stderr",
     "output_type": "stream",
     "text": [
      "\n",
      "[notice] A new release of pip is available: 23.2.1 -> 24.3.1\n",
      "[notice] To update, run: python.exe -m pip install --upgrade pip\n"
     ]
    }
   ],
   "source": [
    "!pip install seaborn"
   ]
  },
  {
   "cell_type": "code",
   "execution_count": null,
   "id": "7b0b93c3",
   "metadata": {},
   "outputs": [],
   "source": []
  },
  {
   "cell_type": "markdown",
   "id": "cf13830a",
   "metadata": {},
   "source": [
    "# Convert Targer data into interger code"
   ]
  },
  {
   "cell_type": "code",
   "execution_count": 9,
   "id": "1a60a274",
   "metadata": {},
   "outputs": [],
   "source": [
    "df['Outcome'] = df['Outcome'].map({\"Diabetic\":1,\"Non Diabetic\":0})"
   ]
  },
  {
   "cell_type": "code",
   "execution_count": 10,
   "id": "2035d72f",
   "metadata": {},
   "outputs": [
    {
     "data": {
      "text/plain": [
       "0      1\n",
       "1      0\n",
       "2      1\n",
       "3      0\n",
       "4      1\n",
       "      ..\n",
       "763    0\n",
       "764    0\n",
       "765    0\n",
       "766    1\n",
       "767    0\n",
       "Name: Outcome, Length: 768, dtype: int64"
      ]
     },
     "execution_count": 10,
     "metadata": {},
     "output_type": "execute_result"
    }
   ],
   "source": [
    "df['Outcome'] "
   ]
  },
  {
   "cell_type": "markdown",
   "id": "29f83e81",
   "metadata": {},
   "source": [
    "# Divide the data into input and output"
   ]
  },
  {
   "cell_type": "code",
   "execution_count": 11,
   "id": "d990dbfe",
   "metadata": {},
   "outputs": [],
   "source": [
    "x = df.iloc[::,:-1:]"
   ]
  },
  {
   "cell_type": "code",
   "execution_count": 12,
   "id": "4aa6cda5",
   "metadata": {},
   "outputs": [],
   "source": [
    "y = df['Outcome']"
   ]
  },
  {
   "cell_type": "markdown",
   "id": "cb928fc3",
   "metadata": {},
   "source": [
    "# Splitting the dataset into the Training set and Test set"
   ]
  },
  {
   "cell_type": "code",
   "execution_count": 13,
   "id": "b9b3706e",
   "metadata": {},
   "outputs": [],
   "source": [
    "x_train,x_test,y_train,y_test = train_test_split(x,y,test_size=0.3,random_state=0)"
   ]
  },
  {
   "cell_type": "markdown",
   "id": "19d98ffe",
   "metadata": {},
   "source": [
    "# Create Model"
   ]
  },
  {
   "cell_type": "code",
   "execution_count": 14,
   "id": "2be76de0",
   "metadata": {},
   "outputs": [],
   "source": [
    "model = DecisionTreeClassifier()"
   ]
  },
  {
   "cell_type": "markdown",
   "id": "f5cbc515",
   "metadata": {},
   "source": [
    "# Fitting DecisionTreeClassifier   on dataset"
   ]
  },
  {
   "cell_type": "code",
   "execution_count": 15,
   "id": "ed6eb1b0",
   "metadata": {},
   "outputs": [],
   "source": [
    "t = model.fit(x_train,y_train)"
   ]
  },
  {
   "cell_type": "markdown",
   "id": "0d476f63",
   "metadata": {},
   "source": [
    "# Display Decision Tree"
   ]
  },
  {
   "cell_type": "code",
   "execution_count": 16,
   "id": "6e51953e",
   "metadata": {},
   "outputs": [
    {
     "data": {
      "text/plain": [
       "[Text(0.5236149267399267, 0.9722222222222222, 'x[1] <= 144.5\\ngini = 0.462\\nsamples = 537\\nvalue = [343, 194]'),\n",
       " Text(0.2552884615384615, 0.9166666666666666, 'x[7] <= 28.5\\ngini = 0.368\\nsamples = 412\\nvalue = [312, 100]'),\n",
       " Text(0.3894516941391941, 0.9444444444444444, 'True  '),\n",
       " Text(0.11648351648351649, 0.8611111111111112, 'x[5] <= 30.45\\ngini = 0.203\\nsamples = 218\\nvalue = [193, 25]'),\n",
       " Text(0.046886446886446886, 0.8055555555555556, 'x[0] <= 7.0\\ngini = 0.039\\nsamples = 100\\nvalue = [98, 2]'),\n",
       " Text(0.035164835164835165, 0.75, 'x[4] <= 48.5\\ngini = 0.02\\nsamples = 99\\nvalue = [98, 1]'),\n",
       " Text(0.023443223443223443, 0.6944444444444444, 'x[6] <= 0.63\\ngini = 0.153\\nsamples = 12\\nvalue = [11, 1]'),\n",
       " Text(0.011721611721611722, 0.6388888888888888, 'gini = 0.0\\nsamples = 11\\nvalue = [11, 0]'),\n",
       " Text(0.035164835164835165, 0.6388888888888888, 'gini = 0.0\\nsamples = 1\\nvalue = [0, 1]'),\n",
       " Text(0.046886446886446886, 0.6944444444444444, 'gini = 0.0\\nsamples = 87\\nvalue = [87, 0]'),\n",
       " Text(0.05860805860805861, 0.75, 'gini = 0.0\\nsamples = 1\\nvalue = [0, 1]'),\n",
       " Text(0.18608058608058609, 0.8055555555555556, 'x[1] <= 127.5\\ngini = 0.314\\nsamples = 118\\nvalue = [95, 23]'),\n",
       " Text(0.10256410256410256, 0.75, 'x[2] <= 53.0\\ngini = 0.245\\nsamples = 98\\nvalue = [84, 14]'),\n",
       " Text(0.07032967032967033, 0.6944444444444444, 'x[2] <= 49.0\\ngini = 0.5\\nsamples = 8\\nvalue = [4, 4]'),\n",
       " Text(0.05860805860805861, 0.6388888888888888, 'x[0] <= 1.5\\ngini = 0.32\\nsamples = 5\\nvalue = [4, 1]'),\n",
       " Text(0.046886446886446886, 0.5833333333333334, 'gini = 0.0\\nsamples = 1\\nvalue = [0, 1]'),\n",
       " Text(0.07032967032967033, 0.5833333333333334, 'gini = 0.0\\nsamples = 4\\nvalue = [4, 0]'),\n",
       " Text(0.08205128205128205, 0.6388888888888888, 'gini = 0.0\\nsamples = 3\\nvalue = [0, 3]'),\n",
       " Text(0.1347985347985348, 0.6944444444444444, 'x[6] <= 0.501\\ngini = 0.198\\nsamples = 90\\nvalue = [80, 10]'),\n",
       " Text(0.1054945054945055, 0.6388888888888888, 'x[5] <= 45.35\\ngini = 0.098\\nsamples = 58\\nvalue = [55, 3]'),\n",
       " Text(0.09377289377289377, 0.5833333333333334, 'x[5] <= 33.55\\ngini = 0.068\\nsamples = 57\\nvalue = [55, 2]'),\n",
       " Text(0.08205128205128205, 0.5277777777777778, 'x[5] <= 33.25\\ngini = 0.18\\nsamples = 20\\nvalue = [18, 2]'),\n",
       " Text(0.07032967032967033, 0.4722222222222222, 'x[7] <= 24.5\\ngini = 0.1\\nsamples = 19\\nvalue = [18, 1]'),\n",
       " Text(0.05860805860805861, 0.4166666666666667, 'gini = 0.0\\nsamples = 14\\nvalue = [14, 0]'),\n",
       " Text(0.08205128205128205, 0.4166666666666667, 'x[1] <= 113.0\\ngini = 0.32\\nsamples = 5\\nvalue = [4, 1]'),\n",
       " Text(0.07032967032967033, 0.3611111111111111, 'x[6] <= 0.227\\ngini = 0.5\\nsamples = 2\\nvalue = [1, 1]'),\n",
       " Text(0.05860805860805861, 0.3055555555555556, 'gini = 0.0\\nsamples = 1\\nvalue = [0, 1]'),\n",
       " Text(0.08205128205128205, 0.3055555555555556, 'gini = 0.0\\nsamples = 1\\nvalue = [1, 0]'),\n",
       " Text(0.09377289377289377, 0.3611111111111111, 'gini = 0.0\\nsamples = 3\\nvalue = [3, 0]'),\n",
       " Text(0.09377289377289377, 0.4722222222222222, 'gini = 0.0\\nsamples = 1\\nvalue = [0, 1]'),\n",
       " Text(0.1054945054945055, 0.5277777777777778, 'gini = 0.0\\nsamples = 37\\nvalue = [37, 0]'),\n",
       " Text(0.11721611721611722, 0.5833333333333334, 'gini = 0.0\\nsamples = 1\\nvalue = [0, 1]'),\n",
       " Text(0.1641025641025641, 0.6388888888888888, 'x[2] <= 69.0\\ngini = 0.342\\nsamples = 32\\nvalue = [25, 7]'),\n",
       " Text(0.14065934065934066, 0.5833333333333334, 'x[1] <= 88.5\\ngini = 0.49\\nsamples = 14\\nvalue = [8, 6]'),\n",
       " Text(0.12893772893772895, 0.5277777777777778, 'gini = 0.0\\nsamples = 5\\nvalue = [5, 0]'),\n",
       " Text(0.1523809523809524, 0.5277777777777778, 'x[6] <= 0.908\\ngini = 0.444\\nsamples = 9\\nvalue = [3, 6]'),\n",
       " Text(0.14065934065934066, 0.4722222222222222, 'x[1] <= 98.5\\ngini = 0.245\\nsamples = 7\\nvalue = [1, 6]'),\n",
       " Text(0.12893772893772895, 0.4166666666666667, 'x[0] <= 1.0\\ngini = 0.444\\nsamples = 3\\nvalue = [1, 2]'),\n",
       " Text(0.11721611721611722, 0.3611111111111111, 'gini = 0.0\\nsamples = 1\\nvalue = [1, 0]'),\n",
       " Text(0.14065934065934066, 0.3611111111111111, 'gini = 0.0\\nsamples = 2\\nvalue = [0, 2]'),\n",
       " Text(0.1523809523809524, 0.4166666666666667, 'gini = 0.0\\nsamples = 4\\nvalue = [0, 4]'),\n",
       " Text(0.1641025641025641, 0.4722222222222222, 'gini = 0.0\\nsamples = 2\\nvalue = [2, 0]'),\n",
       " Text(0.18754578754578755, 0.5833333333333334, 'x[1] <= 87.0\\ngini = 0.105\\nsamples = 18\\nvalue = [17, 1]'),\n",
       " Text(0.17582417582417584, 0.5277777777777778, 'gini = 0.0\\nsamples = 1\\nvalue = [0, 1]'),\n",
       " Text(0.19926739926739928, 0.5277777777777778, 'gini = 0.0\\nsamples = 17\\nvalue = [17, 0]'),\n",
       " Text(0.2695970695970696, 0.75, 'x[2] <= 73.0\\ngini = 0.495\\nsamples = 20\\nvalue = [11, 9]'),\n",
       " Text(0.23443223443223443, 0.6944444444444444, 'x[0] <= 0.5\\ngini = 0.42\\nsamples = 10\\nvalue = [3, 7]'),\n",
       " Text(0.22271062271062272, 0.6388888888888888, 'gini = 0.0\\nsamples = 4\\nvalue = [0, 4]'),\n",
       " Text(0.24615384615384617, 0.6388888888888888, 'x[2] <= 71.0\\ngini = 0.5\\nsamples = 6\\nvalue = [3, 3]'),\n",
       " Text(0.23443223443223443, 0.5833333333333334, 'x[2] <= 55.0\\ngini = 0.375\\nsamples = 4\\nvalue = [3, 1]'),\n",
       " Text(0.22271062271062272, 0.5277777777777778, 'gini = 0.0\\nsamples = 1\\nvalue = [0, 1]'),\n",
       " Text(0.24615384615384617, 0.5277777777777778, 'gini = 0.0\\nsamples = 3\\nvalue = [3, 0]'),\n",
       " Text(0.2578754578754579, 0.5833333333333334, 'gini = 0.0\\nsamples = 2\\nvalue = [0, 2]'),\n",
       " Text(0.3047619047619048, 0.6944444444444444, 'x[2] <= 102.0\\ngini = 0.32\\nsamples = 10\\nvalue = [8, 2]'),\n",
       " Text(0.29304029304029305, 0.6388888888888888, 'x[5] <= 32.0\\ngini = 0.198\\nsamples = 9\\nvalue = [8, 1]'),\n",
       " Text(0.2813186813186813, 0.5833333333333334, 'gini = 0.0\\nsamples = 1\\nvalue = [0, 1]'),\n",
       " Text(0.3047619047619048, 0.5833333333333334, 'gini = 0.0\\nsamples = 8\\nvalue = [8, 0]'),\n",
       " Text(0.31648351648351647, 0.6388888888888888, 'gini = 0.0\\nsamples = 1\\nvalue = [0, 1]'),\n",
       " Text(0.3940934065934066, 0.8611111111111112, 'x[5] <= 26.35\\ngini = 0.474\\nsamples = 194\\nvalue = [119.0, 75.0]'),\n",
       " Text(0.3282051282051282, 0.8055555555555556, 'x[1] <= 131.5\\ngini = 0.061\\nsamples = 32\\nvalue = [31, 1]'),\n",
       " Text(0.31648351648351647, 0.75, 'gini = 0.0\\nsamples = 28\\nvalue = [28, 0]'),\n",
       " Text(0.33992673992673994, 0.75, 'x[5] <= 24.0\\ngini = 0.375\\nsamples = 4\\nvalue = [3, 1]'),\n",
       " Text(0.3282051282051282, 0.6944444444444444, 'gini = 0.0\\nsamples = 1\\nvalue = [0, 1]'),\n",
       " Text(0.3516483516483517, 0.6944444444444444, 'gini = 0.0\\nsamples = 3\\nvalue = [3, 0]'),\n",
       " Text(0.45998168498168496, 0.8055555555555556, 'x[4] <= 78.5\\ngini = 0.496\\nsamples = 162\\nvalue = [88, 74]'),\n",
       " Text(0.4482600732600733, 0.75, 'gini = 0.0\\nsamples = 13\\nvalue = [13, 0]'),\n",
       " Text(0.4717032967032967, 0.75, 'x[6] <= 0.204\\ngini = 0.5\\nsamples = 149\\nvalue = [75.0, 74.0]'),\n",
       " Text(0.3750915750915751, 0.6944444444444444, 'x[1] <= 108.5\\ngini = 0.33\\nsamples = 24\\nvalue = [19, 5]'),\n",
       " Text(0.36336996336996336, 0.6388888888888888, 'gini = 0.0\\nsamples = 11\\nvalue = [11, 0]'),\n",
       " Text(0.3868131868131868, 0.6388888888888888, 'x[4] <= 152.5\\ngini = 0.473\\nsamples = 13\\nvalue = [8, 5]'),\n",
       " Text(0.3750915750915751, 0.5833333333333334, 'x[2] <= 77.0\\ngini = 0.397\\nsamples = 11\\nvalue = [8, 3]'),\n",
       " Text(0.36336996336996336, 0.5277777777777778, 'x[7] <= 35.5\\ngini = 0.48\\nsamples = 5\\nvalue = [2, 3]'),\n",
       " Text(0.3516483516483517, 0.4722222222222222, 'gini = 0.0\\nsamples = 2\\nvalue = [2, 0]'),\n",
       " Text(0.3750915750915751, 0.4722222222222222, 'gini = 0.0\\nsamples = 3\\nvalue = [0, 3]'),\n",
       " Text(0.3868131868131868, 0.5277777777777778, 'gini = 0.0\\nsamples = 6\\nvalue = [6, 0]'),\n",
       " Text(0.39853479853479856, 0.5833333333333334, 'gini = 0.0\\nsamples = 2\\nvalue = [0, 2]'),\n",
       " Text(0.5683150183150183, 0.6944444444444444, 'x[5] <= 43.0\\ngini = 0.495\\nsamples = 125\\nvalue = [56, 69]'),\n",
       " Text(0.5117216117216117, 0.6388888888888888, 'x[3] <= 26.5\\ngini = 0.5\\nsamples = 113\\nvalue = [55, 58]'),\n",
       " Text(0.4336996336996337, 0.5833333333333334, 'x[3] <= 17.0\\ngini = 0.363\\nsamples = 21\\nvalue = [5, 16]'),\n",
       " Text(0.41025641025641024, 0.5277777777777778, 'x[3] <= 13.5\\ngini = 0.444\\nsamples = 6\\nvalue = [4, 2]'),\n",
       " Text(0.39853479853479856, 0.4722222222222222, 'x[1] <= 123.0\\ngini = 0.444\\nsamples = 3\\nvalue = [1, 2]'),\n",
       " Text(0.3868131868131868, 0.4166666666666667, 'gini = 0.0\\nsamples = 2\\nvalue = [0, 2]'),\n",
       " Text(0.41025641025641024, 0.4166666666666667, 'gini = 0.0\\nsamples = 1\\nvalue = [1, 0]'),\n",
       " Text(0.421978021978022, 0.4722222222222222, 'gini = 0.0\\nsamples = 3\\nvalue = [3, 0]'),\n",
       " Text(0.45714285714285713, 0.5277777777777778, 'x[7] <= 59.0\\ngini = 0.124\\nsamples = 15\\nvalue = [1, 14]'),\n",
       " Text(0.44542124542124545, 0.4722222222222222, 'gini = 0.0\\nsamples = 14\\nvalue = [0, 14]'),\n",
       " Text(0.46886446886446886, 0.4722222222222222, 'gini = 0.0\\nsamples = 1\\nvalue = [1, 0]'),\n",
       " Text(0.5897435897435898, 0.5833333333333334, 'x[7] <= 56.5\\ngini = 0.496\\nsamples = 92\\nvalue = [50, 42]'),\n",
       " Text(0.5377289377289377, 0.5277777777777778, 'x[7] <= 42.5\\ngini = 0.5\\nsamples = 84\\nvalue = [43, 41]'),\n",
       " Text(0.49230769230769234, 0.4722222222222222, 'x[1] <= 95.5\\ngini = 0.479\\nsamples = 58\\nvalue = [35, 23]'),\n",
       " Text(0.4805860805860806, 0.4166666666666667, 'gini = 0.0\\nsamples = 8\\nvalue = [8, 0]'),\n",
       " Text(0.504029304029304, 0.4166666666666667, 'x[6] <= 0.738\\ngini = 0.497\\nsamples = 50\\nvalue = [27, 23]'),\n",
       " Text(0.4717948717948718, 0.3611111111111111, 'x[1] <= 119.5\\ngini = 0.482\\nsamples = 42\\nvalue = [25, 17]'),\n",
       " Text(0.4424908424908425, 0.3055555555555556, 'x[2] <= 81.0\\ngini = 0.484\\nsamples = 17\\nvalue = [7, 10]'),\n",
       " Text(0.4307692307692308, 0.25, 'x[0] <= 4.5\\ngini = 0.355\\nsamples = 13\\nvalue = [3, 10]'),\n",
       " Text(0.41904761904761906, 0.19444444444444445, 'x[2] <= 68.0\\ngini = 0.375\\nsamples = 4\\nvalue = [3, 1]'),\n",
       " Text(0.4073260073260073, 0.1388888888888889, 'gini = 0.0\\nsamples = 3\\nvalue = [3, 0]'),\n",
       " Text(0.4307692307692308, 0.1388888888888889, 'gini = 0.0\\nsamples = 1\\nvalue = [0, 1]'),\n",
       " Text(0.4424908424908425, 0.19444444444444445, 'gini = 0.0\\nsamples = 9\\nvalue = [0, 9]'),\n",
       " Text(0.4542124542124542, 0.25, 'gini = 0.0\\nsamples = 4\\nvalue = [4, 0]'),\n",
       " Text(0.5010989010989011, 0.3055555555555556, 'x[2] <= 66.0\\ngini = 0.403\\nsamples = 25\\nvalue = [18.0, 7.0]'),\n",
       " Text(0.4776556776556777, 0.25, 'x[3] <= 28.5\\ngini = 0.375\\nsamples = 4\\nvalue = [1, 3]'),\n",
       " Text(0.46593406593406594, 0.19444444444444445, 'gini = 0.0\\nsamples = 1\\nvalue = [1, 0]'),\n",
       " Text(0.48937728937728936, 0.19444444444444445, 'gini = 0.0\\nsamples = 3\\nvalue = [0, 3]'),\n",
       " Text(0.5245421245421246, 0.25, 'x[6] <= 0.288\\ngini = 0.308\\nsamples = 21\\nvalue = [17, 4]'),\n",
       " Text(0.5128205128205128, 0.19444444444444445, 'x[7] <= 39.5\\ngini = 0.48\\nsamples = 10\\nvalue = [6, 4]'),\n",
       " Text(0.5010989010989011, 0.1388888888888889, 'x[1] <= 131.0\\ngini = 0.49\\nsamples = 7\\nvalue = [3, 4]'),\n",
       " Text(0.48937728937728936, 0.08333333333333333, 'x[5] <= 34.7\\ngini = 0.375\\nsamples = 4\\nvalue = [3, 1]'),\n",
       " Text(0.4776556776556777, 0.027777777777777776, 'gini = 0.0\\nsamples = 1\\nvalue = [0, 1]'),\n",
       " Text(0.5010989010989011, 0.027777777777777776, 'gini = 0.0\\nsamples = 3\\nvalue = [3, 0]'),\n",
       " Text(0.5128205128205128, 0.08333333333333333, 'gini = 0.0\\nsamples = 3\\nvalue = [0, 3]'),\n",
       " Text(0.5245421245421246, 0.1388888888888889, 'gini = 0.0\\nsamples = 3\\nvalue = [3, 0]'),\n",
       " Text(0.5362637362637362, 0.19444444444444445, 'gini = 0.0\\nsamples = 11\\nvalue = [11, 0]'),\n",
       " Text(0.5362637362637362, 0.3611111111111111, 'x[6] <= 1.138\\ngini = 0.375\\nsamples = 8\\nvalue = [2, 6]'),\n",
       " Text(0.5245421245421246, 0.3055555555555556, 'gini = 0.0\\nsamples = 6\\nvalue = [0, 6]'),\n",
       " Text(0.547985347985348, 0.3055555555555556, 'gini = 0.0\\nsamples = 2\\nvalue = [2, 0]'),\n",
       " Text(0.5831501831501832, 0.4722222222222222, 'x[4] <= 116.5\\ngini = 0.426\\nsamples = 26\\nvalue = [8, 18]'),\n",
       " Text(0.5714285714285714, 0.4166666666666667, 'gini = 0.0\\nsamples = 2\\nvalue = [2, 0]'),\n",
       " Text(0.5948717948717949, 0.4166666666666667, 'x[1] <= 125.5\\ngini = 0.375\\nsamples = 24\\nvalue = [6, 18]'),\n",
       " Text(0.5831501831501832, 0.3611111111111111, 'x[5] <= 32.55\\ngini = 0.469\\nsamples = 16\\nvalue = [6, 10]'),\n",
       " Text(0.5714285714285714, 0.3055555555555556, 'gini = 0.0\\nsamples = 5\\nvalue = [0, 5]'),\n",
       " Text(0.5948717948717949, 0.3055555555555556, 'x[5] <= 34.55\\ngini = 0.496\\nsamples = 11\\nvalue = [6, 5]'),\n",
       " Text(0.5831501831501832, 0.25, 'gini = 0.0\\nsamples = 4\\nvalue = [4, 0]'),\n",
       " Text(0.6065934065934065, 0.25, 'x[2] <= 85.5\\ngini = 0.408\\nsamples = 7\\nvalue = [2, 5]'),\n",
       " Text(0.5948717948717949, 0.19444444444444445, 'gini = 0.0\\nsamples = 5\\nvalue = [0, 5]'),\n",
       " Text(0.6183150183150183, 0.19444444444444445, 'gini = 0.0\\nsamples = 2\\nvalue = [2, 0]'),\n",
       " Text(0.6065934065934065, 0.3611111111111111, 'gini = 0.0\\nsamples = 8\\nvalue = [0, 8]'),\n",
       " Text(0.6417582417582418, 0.5277777777777778, 'x[1] <= 107.5\\ngini = 0.219\\nsamples = 8\\nvalue = [7, 1]'),\n",
       " Text(0.63003663003663, 0.4722222222222222, 'x[5] <= 31.75\\ngini = 0.5\\nsamples = 2\\nvalue = [1, 1]'),\n",
       " Text(0.6183150183150183, 0.4166666666666667, 'gini = 0.0\\nsamples = 1\\nvalue = [0, 1]'),\n",
       " Text(0.6417582417582418, 0.4166666666666667, 'gini = 0.0\\nsamples = 1\\nvalue = [1, 0]'),\n",
       " Text(0.6534798534798535, 0.4722222222222222, 'gini = 0.0\\nsamples = 6\\nvalue = [6, 0]'),\n",
       " Text(0.6249084249084249, 0.6388888888888888, 'x[3] <= 55.5\\ngini = 0.153\\nsamples = 12\\nvalue = [1, 11]'),\n",
       " Text(0.6131868131868132, 0.5833333333333334, 'gini = 0.0\\nsamples = 11\\nvalue = [0, 11]'),\n",
       " Text(0.6366300366300366, 0.5833333333333334, 'gini = 0.0\\nsamples = 1\\nvalue = [1, 0]'),\n",
       " Text(0.7919413919413919, 0.9166666666666666, 'x[5] <= 29.95\\ngini = 0.373\\nsamples = 125\\nvalue = [31, 94]'),\n",
       " Text(0.6577781593406593, 0.9444444444444444, '  False'),\n",
       " Text(0.706959706959707, 0.8611111111111112, 'x[7] <= 56.0\\ngini = 0.499\\nsamples = 25\\nvalue = [13, 12]'),\n",
       " Text(0.6952380952380952, 0.8055555555555556, 'x[2] <= 74.5\\ngini = 0.49\\nsamples = 21\\nvalue = [9, 12]'),\n",
       " Text(0.6717948717948717, 0.75, 'x[1] <= 160.5\\ngini = 0.375\\nsamples = 12\\nvalue = [3, 9]'),\n",
       " Text(0.6600732600732601, 0.6944444444444444, 'x[2] <= 66.0\\ngini = 0.5\\nsamples = 6\\nvalue = [3, 3]'),\n",
       " Text(0.6483516483516484, 0.6388888888888888, 'gini = 0.0\\nsamples = 2\\nvalue = [2, 0]'),\n",
       " Text(0.6717948717948717, 0.6388888888888888, 'x[5] <= 26.55\\ngini = 0.375\\nsamples = 4\\nvalue = [1, 3]'),\n",
       " Text(0.6600732600732601, 0.5833333333333334, 'gini = 0.0\\nsamples = 1\\nvalue = [1, 0]'),\n",
       " Text(0.6835164835164835, 0.5833333333333334, 'gini = 0.0\\nsamples = 3\\nvalue = [0, 3]'),\n",
       " Text(0.6835164835164835, 0.6944444444444444, 'gini = 0.0\\nsamples = 6\\nvalue = [0, 6]'),\n",
       " Text(0.7186813186813187, 0.75, 'x[7] <= 40.0\\ngini = 0.444\\nsamples = 9\\nvalue = [6, 3]'),\n",
       " Text(0.706959706959707, 0.6944444444444444, 'gini = 0.0\\nsamples = 5\\nvalue = [5, 0]'),\n",
       " Text(0.7304029304029304, 0.6944444444444444, 'x[1] <= 159.0\\ngini = 0.375\\nsamples = 4\\nvalue = [1, 3]'),\n",
       " Text(0.7186813186813187, 0.6388888888888888, 'gini = 0.0\\nsamples = 3\\nvalue = [0, 3]'),\n",
       " Text(0.7421245421245422, 0.6388888888888888, 'gini = 0.0\\nsamples = 1\\nvalue = [1, 0]'),\n",
       " Text(0.7186813186813187, 0.8055555555555556, 'gini = 0.0\\nsamples = 4\\nvalue = [4, 0]'),\n",
       " Text(0.8769230769230769, 0.8611111111111112, 'x[1] <= 157.5\\ngini = 0.295\\nsamples = 100\\nvalue = [18, 82]'),\n",
       " Text(0.8124542124542125, 0.8055555555555556, 'x[2] <= 85.0\\ngini = 0.458\\nsamples = 31\\nvalue = [11, 20]'),\n",
       " Text(0.8007326007326008, 0.75, 'x[3] <= 29.5\\ngini = 0.493\\nsamples = 25\\nvalue = [11.0, 14.0]'),\n",
       " Text(0.7772893772893773, 0.6944444444444444, 'x[6] <= 1.567\\ngini = 0.355\\nsamples = 13\\nvalue = [3, 10]'),\n",
       " Text(0.7655677655677655, 0.6388888888888888, 'x[7] <= 23.5\\ngini = 0.278\\nsamples = 12\\nvalue = [2, 10]'),\n",
       " Text(0.7538461538461538, 0.5833333333333334, 'gini = 0.0\\nsamples = 1\\nvalue = [1, 0]'),\n",
       " Text(0.7772893772893773, 0.5833333333333334, 'x[6] <= 0.226\\ngini = 0.165\\nsamples = 11\\nvalue = [1, 10]'),\n",
       " Text(0.7655677655677655, 0.5277777777777778, 'x[2] <= 69.0\\ngini = 0.5\\nsamples = 2\\nvalue = [1, 1]'),\n",
       " Text(0.7538461538461538, 0.4722222222222222, 'gini = 0.0\\nsamples = 1\\nvalue = [0, 1]'),\n",
       " Text(0.7772893772893773, 0.4722222222222222, 'gini = 0.0\\nsamples = 1\\nvalue = [1, 0]'),\n",
       " Text(0.789010989010989, 0.5277777777777778, 'gini = 0.0\\nsamples = 9\\nvalue = [0, 9]'),\n",
       " Text(0.789010989010989, 0.6388888888888888, 'gini = 0.0\\nsamples = 1\\nvalue = [1, 0]'),\n",
       " Text(0.8241758241758241, 0.6944444444444444, 'x[7] <= 35.0\\ngini = 0.444\\nsamples = 12\\nvalue = [8, 4]'),\n",
       " Text(0.8124542124542125, 0.6388888888888888, 'gini = 0.0\\nsamples = 6\\nvalue = [6, 0]'),\n",
       " Text(0.8358974358974359, 0.6388888888888888, 'x[2] <= 69.0\\ngini = 0.444\\nsamples = 6\\nvalue = [2, 4]'),\n",
       " Text(0.8241758241758241, 0.5833333333333334, 'gini = 0.0\\nsamples = 1\\nvalue = [1, 0]'),\n",
       " Text(0.8476190476190476, 0.5833333333333334, 'x[5] <= 31.65\\ngini = 0.32\\nsamples = 5\\nvalue = [1, 4]'),\n",
       " Text(0.8358974358974359, 0.5277777777777778, 'gini = 0.0\\nsamples = 1\\nvalue = [1, 0]'),\n",
       " Text(0.8593406593406593, 0.5277777777777778, 'gini = 0.0\\nsamples = 4\\nvalue = [0, 4]'),\n",
       " Text(0.8241758241758241, 0.75, 'gini = 0.0\\nsamples = 6\\nvalue = [0, 6]'),\n",
       " Text(0.9413919413919414, 0.8055555555555556, 'x[3] <= 13.5\\ngini = 0.182\\nsamples = 69\\nvalue = [7, 62]'),\n",
       " Text(0.9296703296703297, 0.75, 'gini = 0.0\\nsamples = 1\\nvalue = [1, 0]'),\n",
       " Text(0.9531135531135531, 0.75, 'x[5] <= 46.1\\ngini = 0.161\\nsamples = 68\\nvalue = [6, 62]'),\n",
       " Text(0.9296703296703297, 0.6944444444444444, 'x[6] <= 2.233\\ngini = 0.121\\nsamples = 62\\nvalue = [4, 58]'),\n",
       " Text(0.9179487179487179, 0.6388888888888888, 'x[3] <= 16.5\\ngini = 0.094\\nsamples = 61\\nvalue = [3, 58]'),\n",
       " Text(0.8945054945054945, 0.5833333333333334, 'x[2] <= 75.0\\ngini = 0.444\\nsamples = 3\\nvalue = [1, 2]'),\n",
       " Text(0.8827838827838828, 0.5277777777777778, 'gini = 0.0\\nsamples = 1\\nvalue = [1, 0]'),\n",
       " Text(0.9062271062271062, 0.5277777777777778, 'gini = 0.0\\nsamples = 2\\nvalue = [0, 2]'),\n",
       " Text(0.9413919413919414, 0.5833333333333334, 'x[7] <= 48.0\\ngini = 0.067\\nsamples = 58\\nvalue = [2, 56]'),\n",
       " Text(0.9296703296703297, 0.5277777777777778, 'gini = 0.0\\nsamples = 46\\nvalue = [0, 46]'),\n",
       " Text(0.9531135531135531, 0.5277777777777778, 'x[7] <= 50.5\\ngini = 0.278\\nsamples = 12\\nvalue = [2, 10]'),\n",
       " Text(0.9413919413919414, 0.4722222222222222, 'gini = 0.0\\nsamples = 1\\nvalue = [1, 0]'),\n",
       " Text(0.9648351648351648, 0.4722222222222222, 'x[6] <= 0.221\\ngini = 0.165\\nsamples = 11\\nvalue = [1, 10]'),\n",
       " Text(0.9531135531135531, 0.4166666666666667, 'x[7] <= 56.0\\ngini = 0.5\\nsamples = 2\\nvalue = [1, 1]'),\n",
       " Text(0.9413919413919414, 0.3611111111111111, 'gini = 0.0\\nsamples = 1\\nvalue = [0, 1]'),\n",
       " Text(0.9648351648351648, 0.3611111111111111, 'gini = 0.0\\nsamples = 1\\nvalue = [1, 0]'),\n",
       " Text(0.9765567765567765, 0.4166666666666667, 'gini = 0.0\\nsamples = 9\\nvalue = [0, 9]'),\n",
       " Text(0.9413919413919414, 0.6388888888888888, 'gini = 0.0\\nsamples = 1\\nvalue = [1, 0]'),\n",
       " Text(0.9765567765567765, 0.6944444444444444, 'x[4] <= 190.0\\ngini = 0.444\\nsamples = 6\\nvalue = [2, 4]'),\n",
       " Text(0.9648351648351648, 0.6388888888888888, 'gini = 0.0\\nsamples = 4\\nvalue = [0, 4]'),\n",
       " Text(0.9882783882783883, 0.6388888888888888, 'gini = 0.0\\nsamples = 2\\nvalue = [2, 0]')]"
      ]
     },
     "execution_count": 16,
     "metadata": {},
     "output_type": "execute_result"
    },
    {
     "data": {
      "image/png": "[encoded data removed]",
      "text/plain": [
       "<Figure size 640x480 with 1 Axes>"
      ]
     },
     "metadata": {},
     "output_type": "display_data"
    }
   ],
   "source": [
    "tree.plot_tree(t)"
   ]
  },
  {
   "cell_type": "markdown",
   "id": "b42d5cd8",
   "metadata": {},
   "source": [
    "# Predict the x_test "
   ]
  },
  {
   "cell_type": "code",
   "execution_count": 17,
   "id": "a166ed56",
   "metadata": {},
   "outputs": [],
   "source": [
    "y_pred = model.predict(x_test)"
   ]
  },
  {
   "cell_type": "markdown",
   "id": "ae6b9df3",
   "metadata": {},
   "source": [
    "# Display Training Accuracy"
   ]
  },
  {
   "cell_type": "code",
   "execution_count": 19,
   "id": "4f0d1238",
   "metadata": {},
   "outputs": [],
   "source": [
    "from sklearn.metrics import accuracy_score\n",
    "\n",
    "train_accuracy = accuracy_score(y_train, model.predict(x_train))"
   ]
  },
  {
   "cell_type": "markdown",
   "id": "07d53bc0",
   "metadata": {},
   "source": [
    "# Display Test Accuracy"
   ]
  },
  {
   "cell_type": "code",
   "execution_count": 20,
   "id": "24a0c0a7",
   "metadata": {},
   "outputs": [
    {
     "data": {
      "text/plain": [
       "0.7575757575757576"
      ]
     },
     "execution_count": 20,
     "metadata": {},
     "output_type": "execute_result"
    }
   ],
   "source": [
    "accuracy_score(y_test,y_pred)"
   ]
  },
  {
   "cell_type": "markdown",
   "id": "9bc2adf8",
   "metadata": {},
   "source": [
    "# Confusion Matrix"
   ]
  },
  {
   "cell_type": "code",
   "execution_count": 21,
   "id": "e7fb7896",
   "metadata": {},
   "outputs": [],
   "source": [
    "from sklearn.metrics import accuracy_score,classification_report,confusion_matrix"
   ]
  },
  {
   "cell_type": "code",
   "execution_count": 22,
   "id": "a4d9b540",
   "metadata": {},
   "outputs": [],
   "source": [
    "cm = confusion_matrix(y_test,y_pred)"
   ]
  },
  {
   "cell_type": "code",
   "execution_count": 23,
   "id": "caf89dd4",
   "metadata": {},
   "outputs": [
    {
     "data": {
      "text/plain": [
       "array([[124,  33],\n",
       "       [ 23,  51]], dtype=int64)"
      ]
     },
     "execution_count": 23,
     "metadata": {},
     "output_type": "execute_result"
    }
   ],
   "source": [
    "cm"
   ]
  },
  {
   "cell_type": "code",
   "execution_count": 24,
   "id": "dcba3f04-c9a9-40a7-a851-94cf6401677a",
   "metadata": {},
   "outputs": [
    {
     "name": "stdout",
     "output_type": "stream",
     "text": [
      "              precision    recall  f1-score   support\n",
      "\n",
      "           0       0.84      0.79      0.82       157\n",
      "           1       0.61      0.69      0.65        74\n",
      "\n",
      "    accuracy                           0.76       231\n",
      "   macro avg       0.73      0.74      0.73       231\n",
      "weighted avg       0.77      0.76      0.76       231\n",
      "\n"
     ]
    }
   ],
   "source": [
    "print(classification_report(y_test,y_pred))"
   ]
  },
  {
   "cell_type": "markdown",
   "id": "c01ec909",
   "metadata": {},
   "source": [
    "# Save Model State"
   ]
  },
  {
   "cell_type": "code",
   "execution_count": 25,
   "id": "efbb0f10",
   "metadata": {},
   "outputs": [],
   "source": [
    "import pickle"
   ]
  },
  {
   "cell_type": "code",
   "execution_count": 26,
   "id": "441ab1f9",
   "metadata": {},
   "outputs": [
    {
     "name": "stdout",
     "output_type": "stream",
     "text": [
      "Model saved to model.pkl\n"
     ]
    }
   ],
   "source": [
    "filename = 'model.pkl'\n",
    "with open(filename, 'wb') as file:\n",
    "    pickle.dump(model, file)\n",
    "print(f\"Model saved to {filename}\")"
   ]
  },
  {
   "cell_type": "markdown",
   "id": "bc76ad27",
   "metadata": {},
   "source": [
    "# Load Model from Disk"
   ]
  },
  {
   "cell_type": "code",
   "execution_count": 30,
   "id": "207e28bf",
   "metadata": {},
   "outputs": [
    {
     "name": "stdout",
     "output_type": "stream",
     "text": [
      "Model loaded successfully!\n"
     ]
    }
   ],
   "source": [
    "filename = 'model.pkl'\n",
    "with open(filename, 'rb') as file:\n",
    "    loaded_model = pickle.load(file)\n",
    "print(\"Model loaded successfully!\")"
   ]
  },
  {
   "cell_type": "code",
   "execution_count": null,
   "id": "a87bcb1c",
   "metadata": {},
   "outputs": [],
   "source": []
  },
  {
   "cell_type": "code",
   "execution_count": null,
   "id": "088f76c6",
   "metadata": {},
   "outputs": [],
   "source": []
  }
 ],
 "metadata": {
  "kernelspec": {
   "display_name": "Python 3 (ipykernel)",
   "language": "python",
   "name": "python3"
  },
  "language_info": {
   "codemirror_mode": {
    "name": "ipython",
    "version": 3
   },
   "file_extension": ".py",
   "mimetype": "text/x-python",
   "name": "python",
   "nbconvert_exporter": "python",
   "pygments_lexer": "ipython3",
   "version": "3.12.1"
  }
 },
 "nbformat": 4,
 "nbformat_minor": 5
}
